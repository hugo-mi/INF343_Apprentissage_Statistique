{
 "cells": [
  {
   "cell_type": "markdown",
   "metadata": {},
   "source": [
    "# INF343 : TP1 Perceptron "
   ]
  },
  {
   "cell_type": "markdown",
   "metadata": {},
   "source": [
    "#### Importation des libarairies"
   ]
  },
  {
   "cell_type": "code",
   "execution_count": 109,
   "metadata": {},
   "outputs": [],
   "source": [
    "import numpy as np\n",
    "import matplotlib.pyplot as plt\n",
    "from mpl_toolkits.mplot3d import Axes3D\n",
    "from matplotlib.colors import ListedColormap\n",
    "from matplotlib import cm\n",
    "import seaborn as sns\n",
    "from matplotlib import rc"
   ]
  },
  {
   "cell_type": "markdown",
   "metadata": {},
   "source": [
    "#### Displaying labeled data"
   ]
  },
  {
   "cell_type": "code",
   "execution_count": 2,
   "metadata": {},
   "outputs": [
    {
     "data": {
      "text/plain": [
       "{'axes.facecolor': 'white',\n",
       " 'axes.edgecolor': '.15',\n",
       " 'axes.grid': False,\n",
       " 'axes.axisbelow': True,\n",
       " 'axes.labelcolor': '.15',\n",
       " 'figure.facecolor': 'white',\n",
       " 'grid.color': '.8',\n",
       " 'grid.linestyle': '-',\n",
       " 'text.color': '.15',\n",
       " 'xtick.color': '.15',\n",
       " 'ytick.color': '.15',\n",
       " 'xtick.direction': 'out',\n",
       " 'ytick.direction': 'out',\n",
       " 'lines.solid_capstyle': 'round',\n",
       " 'patch.edgecolor': 'w',\n",
       " 'patch.force_edgecolor': True,\n",
       " 'image.cmap': 'rocket',\n",
       " 'font.family': ['sans-serif'],\n",
       " 'font.sans-serif': ['Arial',\n",
       "  'DejaVu Sans',\n",
       "  'Liberation Sans',\n",
       "  'Bitstream Vera Sans',\n",
       "  'sans-serif'],\n",
       " 'xtick.bottom': False,\n",
       " 'xtick.top': False,\n",
       " 'ytick.left': False,\n",
       " 'ytick.right': False,\n",
       " 'axes.spines.left': True,\n",
       " 'axes.spines.bottom': True,\n",
       " 'axes.spines.right': True,\n",
       " 'axes.spines.top': True}"
      ]
     },
     "execution_count": 2,
     "metadata": {},
     "output_type": "execute_result"
    }
   ],
   "source": [
    "symlist = ['o', 'p', '*', 's', '+', 'x', 'D', 'v', '-', '^']\n",
    "\n",
    "rc('font', **{'family': 'sans-serif', 'sans-serif': ['Computer Modern Roman']})\n",
    "params = {'axes.labelsize': 12,\n",
    "          'font.size': 16,\n",
    "          'legend.fontsize': 16,\n",
    "          'text.usetex': False,\n",
    "          'figure.figsize': (8, 6)}\n",
    "plt.rcParams.update(params)\n",
    "\n",
    "sns.set_context(\"poster\")\n",
    "sns.set_palette(\"colorblind\")\n",
    "sns.set_style(\"white\")\n",
    "sns.axes_style()"
   ]
  },
  {
   "cell_type": "markdown",
   "metadata": {},
   "source": [
    "## Execice 1 : Génération artificielle de données"
   ]
  },
  {
   "cell_type": "markdown",
   "metadata": {},
   "source": [
    "#### Data Generation"
   ]
  },
  {
   "cell_type": "code",
   "execution_count": 4,
   "metadata": {},
   "outputs": [],
   "source": [
    "def rand_gauss(n=100, mu=[1, 1], sigmas=[0.1, 0.1]):\n",
    "    \"\"\"Sample  points from a Gaussian variable.\n",
    "\n",
    "    Parameters\n",
    "    ----------\n",
    "    n : number of samples\n",
    "\n",
    "    mu : centered\n",
    "\n",
    "    sigma : standard deviation\n",
    "    \"\"\"\n",
    "    d = len(mu)\n",
    "    res = np.random.randn(n, d)\n",
    "    return np.array(mu + res * sigmas)\n",
    "\n",
    "\n",
    "def rand_bi_gauss(n1=100, n2=100, mu1=[1, 1], mu2=[-1, -1], sigmas1=[0.1, 0.1],\n",
    "                  sigmas2=[0.1, 0.1]):\n",
    "    \"\"\"Sample points from two Gaussian distributions.\n",
    "\n",
    "    Parameters\n",
    "    ----------\n",
    "    n1 : number of sample from first distribution\n",
    "\n",
    "    n2 : number of sample from second distribution\n",
    "\n",
    "    mu1 : center for first distribution\n",
    "\n",
    "    mu2 : center for second distribution\n",
    "\n",
    "    sigma1: std deviation for first distribution\n",
    "\n",
    "    sigma2: std deviation for second distribution\n",
    "    \"\"\"\n",
    "    ex1 = rand_gauss(n1, mu1, sigmas1)\n",
    "    ex2 = rand_gauss(n2, mu2, sigmas2)\n",
    "    y = np.hstack([np.ones(n1), -1 * np.ones(n2)])\n",
    "    X = np.vstack([ex1, ex2])\n",
    "    ind = np.random.permutation(n1 + n2)\n",
    "    return X[ind, :], y[ind]\n",
    "\n",
    "def rand_clown(n1=100, n2=100, sigma1=1, sigma2=2):\n",
    "    \"\"\"Create samples and labels form a **clown** dataset.\n",
    "\n",
    "    Parameters\n",
    "    ----------\n",
    "    n1 : number of sample from first blob\n",
    "\n",
    "    n2 : number of sample from second blob\n",
    "\n",
    "    sigma1 :  noise std deviation for the first blob\n",
    "\n",
    "    sigma2 :  noise std deviation for the second blob\n",
    "    \"\"\"\n",
    "    x0 = np.random.randn(n1, 1)\n",
    "    x1 = x0 * x0 + sigma1 * np.random.randn(n1, 1)\n",
    "    x2 = np.hstack([sigma2 * np.random.randn(n2, 1),\n",
    "                    sigma2 * np.random.randn(n2, 1) + 2.])\n",
    "    X = np.vstack([np.hstack([x0, x1]), x2])\n",
    "    y = np.hstack([np.ones(n1), -1 * np.ones(n2)])\n",
    "    ind = np.random.permutation(n1 + n2)\n",
    "    return X[ind, :], y[ind]\n",
    "\n",
    "\n",
    "def rand_checkers(n1=100, n2=100, sigma=0.1):\n",
    "    \"\"\"Create samples and labels from a noisy checker.\n",
    "\n",
    "    Parameters\n",
    "    ----------\n",
    "    n1 : number of samples for the first class\n",
    "\n",
    "    n2 : number of samples for the second class\n",
    "    \"\"\"\n",
    "    nbp = int(np.floor(n1 / 8))\n",
    "    nbn = int(np.floor(n2 / 8))\n",
    "    xapp = np.reshape(np.random.rand((nbp + nbn) * 16), [(nbp + nbn) * 8, 2])\n",
    "    yapp = np.ones((nbp + nbn) * 8)\n",
    "    idx = 0\n",
    "    for i in range(-2, 2):\n",
    "        for j in range(-2, 2):\n",
    "            if (((i + j) % 2) == 0):\n",
    "                nb = nbp\n",
    "            else:\n",
    "                nb = nbn\n",
    "                yapp[idx:(idx + nb)] = [-1] * nb\n",
    "\n",
    "            xapp[idx:(idx + nb), 0] = np.random.rand(nb)\n",
    "            xapp[idx:(idx + nb), 0] += i + sigma * np.random.randn(nb)\n",
    "            xapp[idx:(idx + nb), 1] = np.random.rand(nb)\n",
    "            xapp[idx:(idx + nb), 1] += j + sigma * np.random.randn(nb)\n",
    "            idx += nb\n",
    "\n",
    "    ind = np.random.permutation((nbp + nbn) * 8)\n",
    "    res = np.hstack([xapp, yapp[:, np.newaxis]])\n",
    "    return np.array(res[ind, :2]), np.array(res[ind, 2])\n"
   ]
  },
  {
   "cell_type": "markdown",
   "metadata": {},
   "source": [
    "#### Question 1 :"
   ]
  },
  {
   "cell_type": "markdown",
   "metadata": {},
   "source": [
    "Générer ensuite plusieurs jeux de données à l’aide des fonctions rand_bi_gauss, rand_clown et rand_checkers pour différents paramètres d’entrée n,mu,sigma. \n",
    "\n",
    "Que renvoient ces fonctions ? À quoi correspond la seconde variable de sortie ?"
   ]
  },
  {
   "cell_type": "markdown",
   "metadata": {},
   "source": [
    "#### Fonction pour plot les données"
   ]
  },
  {
   "cell_type": "code",
   "execution_count": 35,
   "metadata": {},
   "outputs": [],
   "source": [
    "def plot_2d(X, y, w=None, step=50, alpha_choice=1):\n",
    "    \"\"\"2D dataset data ploting according to labels.\n",
    "\n",
    "    Parameters\n",
    "    ----------\n",
    "\n",
    "    X : data features\n",
    "\n",
    "    y : label vector\n",
    "\n",
    "    w :(optional) the separating hyperplan w\n",
    "\n",
    "    alpha_choice : control alpha display parameter\n",
    "    \"\"\"\n",
    "    min_tot0 = np.min(X[:, 0])\n",
    "    min_tot1 = np.min(X[:, 1])\n",
    "\n",
    "    max_tot0 = np.max(X[:, 0])\n",
    "    max_tot1 = np.max(X[:, 1])\n",
    "    delta0 = (max_tot0 - min_tot0)\n",
    "    delta1 = (max_tot1 - min_tot1)\n",
    "    labels = np.unique(y)\n",
    "    k = np.unique(y).shape[0]\n",
    "    color_blind_list = sns.color_palette(\"deep\", k)\n",
    "    sns.set_palette(color_blind_list)\n",
    "    for i, label in enumerate(y):\n",
    "        label_num = np.where(labels == label)[0][0]\n",
    "        plt.scatter(X[i, 0], X[i, 1],\n",
    "                    c=np.reshape(color_blind_list[label_num], (1, -1)),\n",
    "                    s=80, marker=symlist[label_num])\n",
    "    plt.xlim([min_tot0 - delta0 / 10., max_tot0 + delta0 / 10.])\n",
    "    plt.ylim([min_tot1 - delta1 / 10., max_tot1 + delta1 / 10.])\n",
    "    if w is not None:\n",
    "        plt.plot([min_tot0, max_tot0],\n",
    "                 [min_tot0 * -w[1] / w[2] - w[0] / w[2],\n",
    "                  max_tot0 * -w[1] / w[2] - w[0] / w[2]],\n",
    "                 \"k\", alpha=alpha_choice)"
   ]
  },
  {
   "cell_type": "markdown",
   "metadata": {},
   "source": [
    "#### rand_bi_gauss function"
   ]
  },
  {
   "cell_type": "code",
   "execution_count": 36,
   "metadata": {},
   "outputs": [
    {
     "name": "stdout",
     "output_type": "stream",
     "text": [
      "[[-1.0230827  -1.09541835]\n",
      " [-0.99725702 -0.90349514]\n",
      " [ 0.99292219  0.77057972]\n",
      " [-1.03624902 -1.17599121]\n",
      " [ 0.94682909  0.98811723]\n",
      " [-1.04872213 -0.88601105]\n",
      " [ 1.01603816  1.02040871]\n",
      " [ 0.96415269  0.93482935]\n",
      " [ 0.93738503  1.03945614]\n",
      " [-1.01790954 -0.87046935]\n",
      " [ 1.05183338  1.11647184]\n",
      " [-1.08505591 -1.05114819]\n",
      " [ 0.84222729  1.04379607]\n",
      " [-0.79493434 -1.22396457]\n",
      " [ 1.05241802  1.05761561]\n",
      " [ 1.08068009  0.96155171]\n",
      " [-0.87596273 -0.97085132]\n",
      " [-1.0453748  -0.98591976]\n",
      " [-1.04152093 -0.96488141]\n",
      " [-0.93479106 -0.98116183]\n",
      " [ 1.04304298  0.99406978]\n",
      " [ 1.02046527  1.12759482]\n",
      " [-0.90711106 -0.98965122]\n",
      " [ 1.08089994  1.03073314]\n",
      " [ 1.03476686  1.20427515]\n",
      " [-0.97543313 -0.99013813]\n",
      " [-1.05400622 -0.95570154]\n",
      " [ 0.84896056  1.0830983 ]\n",
      " [-0.97655652 -0.87577507]\n",
      " [-1.09769777 -1.08969483]\n",
      " [-1.11764687 -1.04613784]\n",
      " [-1.0454934  -0.98028484]\n",
      " [ 1.06863025  0.96444609]\n",
      " [-1.06541673 -1.01791397]\n",
      " [ 0.95940108  0.9594566 ]\n",
      " [ 0.98575239  0.86226926]\n",
      " [ 0.98471169  1.14173808]\n",
      " [ 1.0487703   1.29074489]\n",
      " [-0.88103951 -1.09153065]\n",
      " [ 0.82677065  1.02821922]\n",
      " [-1.12481792 -0.89390509]\n",
      " [ 0.91112149  1.01023291]\n",
      " [-1.04034239 -0.9995698 ]\n",
      " [-1.12819323 -1.01317065]\n",
      " [-1.2136513  -1.13249521]\n",
      " [-0.87784398 -1.00877623]\n",
      " [-0.85157106 -0.9974865 ]\n",
      " [ 1.02361776  0.84977807]\n",
      " [ 1.07566063  0.8923107 ]\n",
      " [ 0.96844804  1.00842437]\n",
      " [-0.86768394 -0.97958115]\n",
      " [ 0.95397797  1.06560645]\n",
      " [-1.01299808 -1.07640264]\n",
      " [-0.86488005 -1.0064112 ]\n",
      " [ 0.88416374  1.05670761]\n",
      " [-0.95287066 -0.98865802]\n",
      " [ 0.94014578  0.92927675]\n",
      " [-1.12322924 -0.89129702]\n",
      " [-0.98974094 -1.00075255]\n",
      " [ 0.72880103  0.99373261]\n",
      " [-0.83309988 -0.9069545 ]\n",
      " [-1.03795726 -1.01645635]\n",
      " [ 0.91551534  1.14268904]\n",
      " [-1.19288057 -1.14577513]\n",
      " [ 1.06069723  0.91243217]\n",
      " [ 0.86138218  0.99398798]\n",
      " [-1.03678521 -1.09439906]\n",
      " [-0.92621613 -0.85445418]\n",
      " [ 1.08091947  0.96368558]\n",
      " [ 1.11402814  0.93865648]\n",
      " [-1.06567732 -1.060744  ]\n",
      " [-0.89912481 -0.85740881]\n",
      " [ 0.99972398  0.91610527]\n",
      " [-0.91641918 -0.99835029]\n",
      " [ 1.05689803  0.83555622]\n",
      " [-1.07365853 -0.89723969]\n",
      " [-1.18243992 -0.89990419]\n",
      " [-1.12287224 -1.03342758]\n",
      " [ 1.20690644  0.97082231]\n",
      " [-1.0396337  -1.02120527]\n",
      " [ 1.24305197  1.10519774]\n",
      " [-1.07320067 -1.01868952]\n",
      " [-1.16565555 -1.02912341]\n",
      " [ 0.91895732  0.97370706]\n",
      " [-1.08309032 -1.03538708]\n",
      " [ 1.05088684  1.0493218 ]\n",
      " [-0.96076761 -1.00067137]\n",
      " [ 0.96504423  0.89272825]\n",
      " [-0.98062629 -0.81672751]\n",
      " [-0.92481184 -0.85171717]\n",
      " [-0.90728515 -0.96978995]\n",
      " [ 1.14022525  1.06743225]\n",
      " [ 0.80581647  0.97786989]\n",
      " [-1.17062527 -0.98542602]\n",
      " [ 0.91587976  1.14703426]\n",
      " [ 0.92758464  1.22096473]\n",
      " [-0.97202668 -0.96130181]\n",
      " [-0.93389814 -0.92882144]\n",
      " [ 1.03262798  1.00194882]\n",
      " [ 1.00621337  1.04417026]\n",
      " [-0.90492232 -0.91807483]\n",
      " [ 1.06683897  1.12308341]\n",
      " [-0.99427867 -0.9977912 ]\n",
      " [-0.87785422 -1.01033573]\n",
      " [ 0.86132862  1.00857   ]\n",
      " [-0.9130217  -0.90076342]\n",
      " [ 0.81552178  0.84354437]\n",
      " [ 1.07544989  0.96845837]\n",
      " [-1.05736195 -0.8900429 ]\n",
      " [ 0.99462196  1.14256696]\n",
      " [ 1.00895596  1.1226477 ]\n",
      " [-1.23681335 -0.93669095]\n",
      " [ 1.0199081   0.8222696 ]\n",
      " [ 0.94443386  0.94644223]\n",
      " [-0.87776475 -1.05255298]\n",
      " [-1.10702587 -0.96281789]\n",
      " [-1.03251057 -0.90223573]\n",
      " [ 1.01186564  0.96879476]\n",
      " [ 1.00559205  0.86442061]\n",
      " [ 0.97676075  0.80569781]\n",
      " [-0.96453238 -1.1079821 ]\n",
      " [ 1.09810377  1.0497401 ]\n",
      " [-1.18211378 -1.2189971 ]\n",
      " [ 1.11993836  0.89025854]\n",
      " [-0.92538868 -0.93201964]\n",
      " [ 0.86775399  0.98907446]\n",
      " [-0.95612905 -0.88313761]\n",
      " [-0.91384069 -1.08990517]\n",
      " [ 0.97005838  1.03555249]\n",
      " [ 1.04695975  1.15959844]\n",
      " [ 0.99726011  0.98509079]\n",
      " [ 1.09392339  0.98064527]\n",
      " [ 0.72119028  1.01850474]\n",
      " [ 0.86878491  0.82466574]\n",
      " [-0.83630712 -0.87024182]\n",
      " [ 1.04542305  1.06151466]\n",
      " [-0.86350598 -1.1115431 ]\n",
      " [ 1.10364407  1.22755147]\n",
      " [-1.03982418 -1.01545227]\n",
      " [-0.85287619 -0.87383211]\n",
      " [-1.08586206 -0.84238579]\n",
      " [ 0.95139972  0.93353329]\n",
      " [-1.05628603 -1.2640187 ]\n",
      " [ 0.88155118  0.89502164]\n",
      " [-0.9338866  -1.06778582]\n",
      " [-1.01860406 -1.19733656]\n",
      " [ 0.92328251  0.9885554 ]\n",
      " [ 0.86624372  1.00580365]\n",
      " [ 0.99991351  0.93435246]\n",
      " [ 1.08858013  1.03315545]\n",
      " [ 0.97393892  1.01938971]\n",
      " [ 1.11624133  0.88456205]\n",
      " [ 1.08017338  1.09633948]\n",
      " [ 1.03131591  1.03425312]\n",
      " [ 1.18007354  0.97684522]\n",
      " [-0.99068548 -1.18539295]\n",
      " [ 0.92940915  0.85864898]\n",
      " [ 0.89028748  0.93161956]\n",
      " [-1.09691982 -0.86390589]\n",
      " [ 0.95782506  1.04615149]\n",
      " [-1.30014951 -0.91301682]\n",
      " [-0.80020713 -0.92990413]\n",
      " [ 1.01350903  1.18607704]\n",
      " [-1.04365666 -0.96898637]\n",
      " [-0.98872902 -0.87221511]\n",
      " [-1.04965188 -0.92456793]\n",
      " [ 1.02995882  0.79405765]\n",
      " [ 0.96394841  1.09467434]\n",
      " [ 1.10212658  1.02095184]\n",
      " [-0.92524455 -0.95413784]\n",
      " [-1.03460384 -1.06123335]\n",
      " [-1.03041083 -1.07328927]\n",
      " [-0.80061978 -1.13957529]\n",
      " [-0.81126216 -0.98625802]\n",
      " [ 0.97093893  0.97875096]\n",
      " [-1.04635912 -1.12025598]\n",
      " [ 1.02169857  1.07364824]\n",
      " [ 0.97780248  0.86287921]\n",
      " [-0.88291927 -0.88490029]\n",
      " [ 0.99869796  1.20677323]\n",
      " [ 1.02752044  0.79476501]\n",
      " [ 0.93955906  0.92885545]\n",
      " [-0.98756336 -0.99108145]\n",
      " [-0.98399179 -0.94980419]\n",
      " [-0.98982622 -1.03447048]\n",
      " [-1.00204711 -0.95721878]\n",
      " [-0.97633108 -0.7993123 ]\n",
      " [ 0.96902099  0.76708573]\n",
      " [ 1.02586761  1.08222052]\n",
      " [-1.07286    -0.70761541]\n",
      " [-1.01390243 -1.04915754]\n",
      " [-0.72829617 -1.0929136 ]\n",
      " [-1.14187854 -1.0659014 ]\n",
      " [ 0.96851397  1.07191881]\n",
      " [ 1.03499561  0.94100443]\n",
      " [ 1.11596167  1.07020607]\n",
      " [-0.90710023 -0.96799409]\n",
      " [ 1.01931772  0.73439929]\n",
      " [ 1.15634106  1.09368757]\n",
      " [ 1.04142568  1.03056741]]\n",
      "[-1. -1.  1. -1.  1. -1.  1.  1.  1. -1.  1. -1.  1. -1.  1.  1. -1. -1.\n",
      " -1. -1.  1.  1. -1.  1.  1. -1. -1.  1. -1. -1. -1. -1.  1. -1.  1.  1.\n",
      "  1.  1. -1.  1. -1.  1. -1. -1. -1. -1. -1.  1.  1.  1. -1.  1. -1. -1.\n",
      "  1. -1.  1. -1. -1.  1. -1. -1.  1. -1.  1.  1. -1. -1.  1.  1. -1. -1.\n",
      "  1. -1.  1. -1. -1. -1.  1. -1.  1. -1. -1.  1. -1.  1. -1.  1. -1. -1.\n",
      " -1.  1.  1. -1.  1.  1. -1. -1.  1.  1. -1.  1. -1. -1.  1. -1.  1.  1.\n",
      " -1.  1.  1. -1.  1.  1. -1. -1. -1.  1.  1.  1. -1.  1. -1.  1. -1.  1.\n",
      " -1. -1.  1.  1.  1.  1.  1.  1. -1.  1. -1.  1. -1. -1. -1.  1. -1.  1.\n",
      " -1. -1.  1.  1.  1.  1.  1.  1.  1.  1.  1. -1.  1.  1. -1.  1. -1. -1.\n",
      "  1. -1. -1. -1.  1.  1.  1. -1. -1. -1. -1. -1.  1. -1.  1.  1. -1.  1.\n",
      "  1.  1. -1. -1. -1. -1. -1.  1.  1. -1. -1. -1. -1.  1.  1.  1. -1.  1.\n",
      "  1.  1.]\n"
     ]
    }
   ],
   "source": [
    "X_1, Y_1 = rand_bi_gauss(n1=100, n2=100, mu1=[1, 1], mu2=[-1, -1], sigmas1=[0.1, 0.1],\n",
    "                  sigmas2=[0.1, 0.1])\n",
    "print(X_1)\n",
    "print(Y_1)"
   ]
  },
  {
   "cell_type": "code",
   "execution_count": 37,
   "metadata": {
    "scrolled": false
   },
   "outputs": [
    {
     "data": {
      "text/plain": [
       "Text(0.5, 1.0, 'rand_bi_gauss function \\n')"
      ]
     },
     "execution_count": 37,
     "metadata": {},
     "output_type": "execute_result"
    },
    {
     "data": {
      "image/png": "[encoded data removed]",
      "text/plain": [
       "<Figure size 576x432 with 1 Axes>"
      ]
     },
     "metadata": {},
     "output_type": "display_data"
    }
   ],
   "source": [
    "plot_2d(X_1, Y_1)\n",
    "plt.title(\"rand_bi_gauss function \\n\")"
   ]
  },
  {
   "cell_type": "markdown",
   "metadata": {},
   "source": [
    "#### rand_clown function"
   ]
  },
  {
   "cell_type": "code",
   "execution_count": 38,
   "metadata": {},
   "outputs": [],
   "source": [
    "X_2, Y_2 = rand_clown(n1=100, n2=100, sigma1=1, sigma2=2)\n"
   ]
  },
  {
   "cell_type": "code",
   "execution_count": 39,
   "metadata": {},
   "outputs": [
    {
     "data": {
      "text/plain": [
       "Text(0.5, 1.0, 'rand_clown function \\n')"
      ]
     },
     "execution_count": 39,
     "metadata": {},
     "output_type": "execute_result"
    },
    {
     "data": {
      "image/png": "[encoded data removed]",
      "text/plain": [
       "<Figure size 576x432 with 1 Axes>"
      ]
     },
     "metadata": {},
     "output_type": "display_data"
    }
   ],
   "source": [
    "plot_2d(X_2, Y_2)\n",
    "plt.title(\"rand_clown function \\n\")"
   ]
  },
  {
   "cell_type": "markdown",
   "metadata": {},
   "source": [
    "#### rand_checkers function"
   ]
  },
  {
   "cell_type": "code",
   "execution_count": 42,
   "metadata": {},
   "outputs": [],
   "source": [
    "X_3, Y_3 = rand_checkers(n1=100, n2=100, sigma=0.1)"
   ]
  },
  {
   "cell_type": "code",
   "execution_count": 43,
   "metadata": {},
   "outputs": [
    {
     "data": {
      "text/plain": [
       "Text(0.5, 1.0, 'rand_clown function \\n')"
      ]
     },
     "execution_count": 43,
     "metadata": {},
     "output_type": "execute_result"
    },
    {
     "data": {
      "image/png": "[encoded data removed]",
      "text/plain": [
       "<Figure size 576x432 with 1 Axes>"
      ]
     },
     "metadata": {},
     "output_type": "display_data"
    }
   ],
   "source": [
    "plot_2d(X_3, Y_3)\n",
    "plt.title(\"rand_clown function \\n\")"
   ]
  },
  {
   "cell_type": "markdown",
   "metadata": {},
   "source": [
    "#### Ces 3 fonctions génèrent pour la première variable de sortie aléatoirement un ensemble de points d'observation (data points) de manière aléatoire. \n",
    "#### La seconde variable générée par ces 3 fonctions correspond au label des points d'observations"
   ]
  },
  {
   "cell_type": "markdown",
   "metadata": {},
   "source": [
    "### Exercice 2 : Le Perceptron"
   ]
  },
  {
   "cell_type": "markdown",
   "metadata": {},
   "source": [
    "#### Question 1 : On cherche à la main une ligne séparatrice pour les 3 jeu de données"
   ]
  },
  {
   "cell_type": "markdown",
   "metadata": {},
   "source": [
    "### Cas rand_bi_gauss function"
   ]
  },
  {
   "cell_type": "code",
   "execution_count": 134,
   "metadata": {},
   "outputs": [
    {
     "data": {
      "text/plain": [
       "Text(0.5, 1.0, 'rand_bi_gauss function \\n')"
      ]
     },
     "execution_count": 134,
     "metadata": {},
     "output_type": "execute_result"
    },
    {
     "data": {
      "image/png": "[encoded data removed]",
      "text/plain": [
       "<Figure size 576x432 with 1 Axes>"
      ]
     },
     "metadata": {},
     "output_type": "display_data"
    }
   ],
   "source": [
    "plot_2d(X_1, Y_1)\n",
    "plt.plot(np.arange(-2, 2, 0.1)*0.5, np.arange(-2, 2, 0.1)*(-0.5))\n",
    "plt.title(\"rand_bi_gauss function \\n\")"
   ]
  },
  {
   "cell_type": "markdown",
   "metadata": {},
   "source": [
    "### Cas rand_clown function"
   ]
  },
  {
   "cell_type": "code",
   "execution_count": 161,
   "metadata": {},
   "outputs": [
    {
     "data": {
      "text/plain": [
       "Text(0.5, 1.0, 'rand_clown function \\n')"
      ]
     },
     "execution_count": 161,
     "metadata": {},
     "output_type": "execute_result"
    },
    {
     "data": {
      "image/png": "[encoded data removed]",
      "text/plain": [
       "<Figure size 576x432 with 1 Axes>"
      ]
     },
     "metadata": {},
     "output_type": "display_data"
    }
   ],
   "source": [
    "plot_2d(X_2, Y_2)\n",
    "x1 = np.arange(-4, 6, 0.1)\n",
    "x2 = np.arange(-5, 5, 0.1)\n",
    "plt.plot(-x1**2 + 2*x1 + 1 , -x2**2 + 2*x2 + 1)\n",
    "plt.title(\"rand_clown function \\n\")"
   ]
  },
  {
   "cell_type": "markdown",
   "metadata": {},
   "source": [
    "### Cas rand_clown function"
   ]
  },
  {
   "cell_type": "code",
   "execution_count": 153,
   "metadata": {},
   "outputs": [
    {
     "data": {
      "text/plain": [
       "Text(0.5, 1.0, 'rand_checker function \\n')"
      ]
     },
     "execution_count": 153,
     "metadata": {},
     "output_type": "execute_result"
    },
    {
     "data": {
      "image/png": "[encoded data removed]",
      "text/plain": [
       "<Figure size 576x432 with 1 Axes>"
      ]
     },
     "metadata": {},
     "output_type": "display_data"
    }
   ],
   "source": [
    "plot_2d(X_3, Y_3)\n",
    "plt.plot(np.arange(-5, 4, 0.1)*0.5, np.arange(-5, 4, 0.1)*(-2.5))\n",
    "plt.title(\"rand_checker function \\n\")"
   ]
  },
  {
   "cell_type": "markdown",
   "metadata": {},
   "source": [
    "- $\\hat\\f(w)$ est grand lorsque $cos(x,w) = 1$ i.e [$0 ,\\pi/2$] U [$3\\pi/2 ,2\\pi$]\n",
    "\n",
    "- $\\hat\\f(w)$ est grand lorsque $cos(x,w) = -1$ i.e [$\\pi/2\\ ,-\\pi/2$]\n",
    "\n",
    "- $w_{0}$ correspond à l'odronnée à l'origine (intercept)"
   ]
  },
  {
   "cell_type": "markdown",
   "metadata": {},
   "source": [
    "$\\hat\\f(w) = w_{0} + <x,w> = w_{0} + ||x||.||w||.cos(x,w)$ \n",
    "\n",
    "Cette fonction est donc un produit scalaire"
   ]
  },
  {
   "cell_type": "markdown",
   "metadata": {},
   "source": [
    "#### Question 2\n",
    "\n",
    "Vérifions que la fonction predict(x,w) revoi f chapeau"
   ]
  },
  {
   "cell_type": "code",
   "execution_count": 162,
   "metadata": {},
   "outputs": [
    {
     "data": {
      "text/plain": [
       "[12, 22, 25]"
      ]
     },
     "execution_count": 162,
     "metadata": {},
     "output_type": "execute_result"
    }
   ],
   "source": [
    "w = list()\n",
    "for i in range (3):\n",
    "    w.append(np.random.randint(0,50))\n",
    "    \n",
    "w"
   ]
  },
  {
   "cell_type": "code",
   "execution_count": 169,
   "metadata": {},
   "outputs": [
    {
     "data": {
      "text/plain": [
       "array([-37.89327818, -32.52703285,  53.10878122, -40.19725872,\n",
       "        57.53317081, -33.22216299,  59.86305725,  56.58209284,\n",
       "        58.60887418, -32.15574362,  63.05213049, -38.14993484,\n",
       "        56.62390227, -36.08766968,  61.59358679,  59.81375484,\n",
       "       -31.54246298, -35.64623968, -35.03549587, -33.09444907,\n",
       "        59.79869017,  62.64010639, -32.69772393,  61.54812704,\n",
       "        64.87174963, -34.21298216, -35.08067526,  57.75458968,\n",
       "       -31.37862003, -39.39172186, -38.74167703, -35.50797586,\n",
       "        59.62101768, -36.88701731,  57.09323894,  55.24328408,\n",
       "        62.20710923,  67.34156889, -34.67113555,  55.8944347 ,\n",
       "       -35.09362159,  57.30049547, -35.87677761, -38.14951735,\n",
       "       -43.01270876, -32.53197331, -31.67172573,  55.76404235,\n",
       "        57.97230137,  58.51646622, -31.5785754 ,  59.62767645,\n",
       "       -37.19602373, -32.18764106,  57.86929237, -33.67960489,\n",
       "        55.91512603, -34.99346879, -34.7931145 ,  52.87693778,\n",
       "       -29.00205999, -36.24646865,  60.7085635 , -42.88775093,\n",
       "        58.14614318,  55.80010764, -38.16925098, -29.73810947,\n",
       "        59.87236768,  59.97503099, -37.96350115, -29.21596601,\n",
       "        56.89655933, -33.11997901,  56.140662  , -34.05148   ,\n",
       "       -36.51128305, -38.53887871,  62.82249953, -36.40207298,\n",
       "        66.97708673, -37.07765274, -39.37250744,  56.55973755,\n",
       "       -37.71266414,  61.35255554, -34.15367182,  55.54917928,\n",
       "       -29.99196609, -29.63878954, -32.20502197,  63.77076154,\n",
       "        54.17470953, -38.38940647,  60.82521132,  62.93098021,\n",
       "       -33.41713218, -31.76629508,  59.76653602,  60.24095044,\n",
       "       -30.86016157,  63.54754249, -34.81891088, -32.57118623,\n",
       "        56.16347953, -30.60556291,  51.03008847,  59.87135672,\n",
       "       -33.5130354 ,  62.44585722,  62.2632235 , -38.62716732,\n",
       "        54.99471828,  56.43860064, -33.62464896, -36.42501636,\n",
       "       -33.27112583,  58.48091292,  55.73354032,  53.63118168,\n",
       "       -36.91926475,  62.40178547, -44.48143056,  58.8951075 ,\n",
       "       -31.65904199,  55.81744922, -31.11327937, -35.35212441,\n",
       "        59.23009657,  64.02307548,  58.56699228,  60.58244614,\n",
       "        53.32880469,  51.7299115 , -28.15480216,  61.53717346,\n",
       "       -34.78570903,  66.96895632, -36.26243872, -28.60907894,\n",
       "       -32.94861025,  56.2691261 , -42.83876025,  53.76966717,\n",
       "       -35.24015062, -40.34270328,  57.02610031,  56.20245304,\n",
       "        57.35690883,  61.77764916,  58.91139902,  58.67136058,\n",
       "        63.17230147,  60.54527801,  62.3827482 , -39.42990422,\n",
       "        53.91322578,  54.87681374, -33.72988316,  59.22593839,\n",
       "       -39.4287096 , -28.85216023,  63.94912465, -35.18510566,\n",
       "       -31.5574164 , -34.20653951,  54.51053535,  60.57372358,\n",
       "        61.77058075, -32.20882617, -37.29211821, -37.50126999,\n",
       "       -34.10301757, -30.50421796,  57.82943041, -39.02630035,\n",
       "        61.31857435,  55.08363491, -29.54673122,  64.14068585,\n",
       "        54.47457502,  55.89168549, -34.50343006, -33.3929241 ,\n",
       "       -35.63793867, -33.97550589, -29.46209149,  52.495605  ,\n",
       "        61.62460047, -29.29330535, -36.53479182, -31.34535572,\n",
       "       -39.76886287,  60.10527767,  58.29501417,  63.30630845,\n",
       "       -32.1560573 ,  52.78497214,  64.7816925 ,  60.67555007])"
      ]
     },
     "execution_count": 169,
     "metadata": {},
     "output_type": "execute_result"
    }
   ],
   "source": [
    "f_chapo_1 = predict(X_1, w)\n",
    "f_chapo_1"
   ]
  },
  {
   "cell_type": "code",
   "execution_count": 170,
   "metadata": {},
   "outputs": [
    {
     "data": {
      "text/plain": [
       "array([-1., -1.,  1., -1.,  1., -1.,  1.,  1.,  1., -1.,  1., -1.,  1.,\n",
       "       -1.,  1.,  1., -1., -1., -1., -1.,  1.,  1., -1.,  1.,  1., -1.,\n",
       "       -1.,  1., -1., -1., -1., -1.,  1., -1.,  1.,  1.,  1.,  1., -1.,\n",
       "        1., -1.,  1., -1., -1., -1., -1., -1.,  1.,  1.,  1., -1.,  1.,\n",
       "       -1., -1.,  1., -1.,  1., -1., -1.,  1., -1., -1.,  1., -1.,  1.,\n",
       "        1., -1., -1.,  1.,  1., -1., -1.,  1., -1.,  1., -1., -1., -1.,\n",
       "        1., -1.,  1., -1., -1.,  1., -1.,  1., -1.,  1., -1., -1., -1.,\n",
       "        1.,  1., -1.,  1.,  1., -1., -1.,  1.,  1., -1.,  1., -1., -1.,\n",
       "        1., -1.,  1.,  1., -1.,  1.,  1., -1.,  1.,  1., -1., -1., -1.,\n",
       "        1.,  1.,  1., -1.,  1., -1.,  1., -1.,  1., -1., -1.,  1.,  1.,\n",
       "        1.,  1.,  1.,  1., -1.,  1., -1.,  1., -1., -1., -1.,  1., -1.,\n",
       "        1., -1., -1.,  1.,  1.,  1.,  1.,  1.,  1.,  1.,  1.,  1., -1.,\n",
       "        1.,  1., -1.,  1., -1., -1.,  1., -1., -1., -1.,  1.,  1.,  1.,\n",
       "       -1., -1., -1., -1., -1.,  1., -1.,  1.,  1., -1.,  1.,  1.,  1.,\n",
       "       -1., -1., -1., -1., -1.,  1.,  1., -1., -1., -1., -1.,  1.,  1.,\n",
       "        1., -1.,  1.,  1.,  1.])"
      ]
     },
     "execution_count": 170,
     "metadata": {},
     "output_type": "execute_result"
    }
   ],
   "source": [
    "f_chapo_1_label = predict_class(X_1, w)\n",
    "f_chapo_1_label"
   ]
  },
  {
   "cell_type": "markdown",
   "metadata": {},
   "source": [
    "#### Affichage des labels des points d'observations"
   ]
  },
  {
   "cell_type": "code",
   "execution_count": 51,
   "metadata": {},
   "outputs": [],
   "source": [
    "###############################################################################\n",
    "#            Displaying labeled data\n",
    "###############################################################################\n",
    "\n",
    "symlist = ['o', 's', '+', 'x', 'D', '*', 'p', 'v', '-', '^']\n",
    "collist = ['blue', 'red', 'purple', 'orange', 'salmon', 'black', 'grey',\n",
    "           'fuchsia']\n",
    "\n",
    "\n",
    "def plot_2d(X, y, w=None, step=50, alpha_choice=1):\n",
    "    \"\"\"2D dataset data ploting according to labels.\n",
    "\n",
    "    Parameters\n",
    "    ----------\n",
    "\n",
    "    X : data features\n",
    "\n",
    "    y : label vector\n",
    "\n",
    "    w :(optional) the separating hyperplan w\n",
    "\n",
    "    alpha_choice : control alpha display parameter\n",
    "    \"\"\"\n",
    "    min_tot0 = np.min(X[:, 0])\n",
    "    min_tot1 = np.min(X[:, 1])\n",
    "\n",
    "    max_tot0 = np.max(X[:, 0])\n",
    "    max_tot1 = np.max(X[:, 1])\n",
    "    delta0 = (max_tot0 - min_tot0)\n",
    "    delta1 = (max_tot1 - min_tot1)\n",
    "    labels = np.unique(y)\n",
    "    k = np.unique(y).shape[0]\n",
    "    color_blind_list = sns.color_palette(\"colorblind\", k)\n",
    "    sns.set_palette(color_blind_list)\n",
    "    for i, label in enumerate(y):\n",
    "        label_num = np.where(labels == label)[0][0]\n",
    "        plt.scatter(X[i, 0], X[i, 1],\n",
    "                    c=np.reshape(color_blind_list[label_num], (1, -1)),\n",
    "                    s=80, marker=symlist[label_num])\n",
    "    plt.xlim([min_tot0 - delta0 / 10., max_tot0 + delta0 / 10.])\n",
    "    plt.ylim([min_tot1 - delta1 / 10., max_tot1 + delta1 / 10.])\n",
    "    if w is not None:\n",
    "        plt.plot([min_tot0, max_tot0],\n",
    "                 [min_tot0 * -w[1] / w[2] - w[0] / w[2],\n",
    "                  max_tot0 * -w[1] / w[2] - w[0] / w[2]],\n",
    "                 \"k\", alpha=alpha_choice)\n"
   ]
  },
  {
   "cell_type": "markdown",
   "metadata": {},
   "source": [
    "#### Fonctions de pertes et leur gradient"
   ]
  },
  {
   "cell_type": "code",
   "execution_count": 54,
   "metadata": {},
   "outputs": [],
   "source": [
    "###############################################################################\n",
    "#               Loss functions and their gradient\n",
    "###############################################################################\n",
    "\n",
    "def predict(x, w):\n",
    "    \"\"\"Prediction from a normal vector.\"\"\"\n",
    "    return np.dot(x, w[1:]) + w[0]\n",
    "\n",
    "\n",
    "def predict_class(x, w):\n",
    "    \"\"\"Predict a class from at point x thanks to a normal vector.\"\"\"\n",
    "    return np.sign(predict(x, w))\n",
    "\n",
    "\n",
    "def zero_one_loss(x, y, w):\n",
    "    \"\"\"0-1 loss function.\"\"\"\n",
    "    return abs(y - np.sign(predict(x, w))) / 2.\n",
    "\n",
    "\n",
    "def hinge_loss(x, y, w):\n",
    "    \"\"\"Hinge loss function.\"\"\"\n",
    "    return np.maximum(0., 1. - y * predict(x, w))\n",
    "\n",
    "\n",
    "def mse_loss(x, y, w):\n",
    "    \"\"\"Mean square error loss.\"\"\"\n",
    "    return (y - predict(x, w)) ** 2\n",
    "\n",
    "\n",
    "def norm2(x, y, w):\n",
    "    \"\"\"Squared norm of a vector.\"\"\"\n",
    "    return np.dot(w, w)\n",
    "\n",
    "\n",
    "def gr_hinge_loss(x, y, w):\n",
    "    \"\"\"Sub-gradient of the loss function hingeloss.\"\"\"\n",
    "    return np.dot(-y * (hinge_loss(x, y, w) > 0.),\n",
    "                  np.hstack((np.ones((x.shape[0], 1)), x)))\n",
    "\n",
    "\n",
    "def gr_mse_loss(x, y, w):\n",
    "    \"\"\"Gradient of the least squares lost function.\"\"\"\n",
    "    return -2. * np.dot(y - predict(x, w),\n",
    "                        np.hstack((np.ones((x.shape[0], 1)), x)))\n",
    "\n",
    "\n",
    "def gr_norm2(x, y, w):\n",
    "    \"\"\"Gradient of the squared norm.\"\"\"\n",
    "    return 2. * w\n",
    "\n",
    "\n",
    "def pen_loss_aux(x, y, w, l):\n",
    "    \"\"\"Loss function penalized by hinge loss.\"\"\"\n",
    "    return hinge_loss(x, y, w) + l * norm2(x, y, w)\n",
    "\n",
    "\n",
    "def gr_pen_loss_aux(x, y, w, l):\n",
    "    \"\"\"Gradient of hinge loss penalized loss function.\"\"\"\n",
    "    return gr_hinge_loss(x, y, w) + l * gr_norm2(x, y, w, )\n",
    "\n",
    "\n",
    "def pen_loss(l):\n",
    "    \"\"\"Penalized loss function.\"\"\"\n",
    "    return lambda x, y, w: pen_loss_aux(x, y, w, l)\n",
    "\n",
    "\n",
    "def gr_pen_loss(l):\n",
    "    \"\"\"Gradient penalized loss function.\"\"\"\n",
    "    return lambda x, y, w: gr_pen_loss_aux(x, y, w, l)"
   ]
  },
  {
   "cell_type": "markdown",
   "metadata": {},
   "source": [
    "#### Affichage de la frontière"
   ]
  },
  {
   "cell_type": "code",
   "execution_count": 55,
   "metadata": {},
   "outputs": [],
   "source": [
    "###############################################################################\n",
    "#            Displaying tools for the Frontiere\n",
    "###############################################################################\n",
    "\n",
    "def frontiere(f, X, step=50, cmap_choice=cm.coolwarm):\n",
    "    \"\"\"Frontiere plotting for a decision function f.\"\"\"\n",
    "    min_tot0 = np.min(X[:, 0])\n",
    "    max_tot0 = np.max(X[:, 0])\n",
    "    min_tot1 = np.min(X[:, 1])\n",
    "    max_tot1 = np.max(X[:, 1])\n",
    "    delta0 = (max_tot0 - min_tot0)\n",
    "    delta1 = (max_tot1 - min_tot1)\n",
    "    xx, yy = np.meshgrid(np.arange(min_tot0, max_tot0, delta0 / step),\n",
    "                         np.arange(min_tot1, max_tot1, delta1 / step))\n",
    "    z = np.array([f(vec) for vec in np.c_[xx.ravel(), yy.ravel()]])\n",
    "    z = z.reshape(xx.shape)\n",
    "    plt.imshow(z, origin='lower', interpolation=\"nearest\", cmap=cmap_choice,\n",
    "               extent=[min_tot0, max_tot0, min_tot1, max_tot1])\n",
    "    plt.colorbar()\n",
    "\n",
    "def frontiere_new(clf, X, y, w=None, step=50, alpha_choice=1, colorbar=True,\n",
    "                  samples=True, n_labels=3, n_neighbors=3):\n",
    "    \"\"\"Trace la frontiere pour la fonction de decision de clf.\"\"\"\n",
    "    min_tot0 = np.min(X[:, 0])\n",
    "    min_tot1 = np.min(X[:, 1])\n",
    "\n",
    "    max_tot0 = np.max(X[:, 0])\n",
    "    max_tot1 = np.max(X[:, 1])\n",
    "    delta0 = (max_tot0 - min_tot0)\n",
    "    delta1 = (max_tot1 - min_tot1)\n",
    "    xx, yy = np.meshgrid(np.arange(min_tot0, max_tot0, delta0 / step),\n",
    "                         np.arange(min_tot1, max_tot1, delta1 / step))\n",
    "    XX = np.c_[xx.ravel(), yy.ravel()]\n",
    "    print(XX.shape)\n",
    "    z = clf.predict(XX)\n",
    "    z = z.reshape(xx.shape)\n",
    "    labels = np.unique(z)\n",
    "    color_blind_list = sns.color_palette(\"colorblind\", labels.shape[0])\n",
    "    my_cmap = ListedColormap(color_blind_list)\n",
    "    plt.imshow(z, origin='lower', interpolation=\"mitchell\", alpha=0.80,\n",
    "               cmap=my_cmap, extent=[min_tot0, max_tot0, min_tot1, max_tot1])\n",
    "    if colorbar is True:\n",
    "        ax = plt.gca()\n",
    "        cbar = plt.colorbar(ticks=labels)\n",
    "        cbar.ax.set_yticklabels(labels)\n",
    "\n",
    "    # color_blind_list = sns.color_palette(\"colorblind\", labels.shape[0])\n",
    "    # sns.set_palette(color_blind_list)\n",
    "    ax = plt.gca()\n",
    "    if samples is True:\n",
    "        for i, label in enumerate(y):\n",
    "            label_num = np.where(labels == label)[0][0]\n",
    "            plt.scatter(X[i, 0], X[i, 1], c=[color_blind_list[label_num]],\n",
    "                        s=80, marker=symlist[label_num])\n",
    "    plt.xlim([min_tot0, max_tot0])\n",
    "    plt.ylim([min_tot1, max_tot1])\n",
    "    ax.get_yaxis().set_ticks([])\n",
    "    ax.get_xaxis().set_ticks([])\n",
    "    if w is not None:\n",
    "        plt.plot([min_tot0, max_tot0],\n",
    "                 [min_tot0 * -w[1] / w[2] - w[0] / w[2],\n",
    "                  max_tot0 * -w[1] / w[2] - w[0] / w[2]],\n",
    "                 \"k\", alpha=alpha_choice)\n",
    "    plt.title(\"L=\" + str(n_labels) + \",k=\" +\n",
    "              str(n_neighbors))\n",
    "\n",
    "def frontiere_3d(f, data, step=20):\n",
    "    \"\"\"Plot the 3d frontiere for the decision function f.\"\"\"\n",
    "    ax = plt.gca(projection='3d')\n",
    "    xmin, xmax = data[:, 0].min() - 1., data[:, 0].max() + 1.\n",
    "    ymin, ymax = data[:, 1].min() - 1., data[:, 1].max() + 1.\n",
    "    xx, yy = np.meshgrid(np.arange(xmin, xmax, (xmax - xmin) * 1. / step),\n",
    "                         np.arange(ymin, ymax, (ymax - ymin) * 1. / step))\n",
    "    z = np.array([f(vec) for vec in np.c_[xx.ravel(), yy.ravel()]])\n",
    "    z = z.reshape(xx.shape)\n",
    "    ax.plot_surface(xx, yy, z, rstride=1, cstride=1,\n",
    "                    linewidth=0., antialiased=False,\n",
    "                    cmap=plt.cm.coolwarm)\n",
    "\n",
    "def plot_cout(X, y, loss_fun, w=None):\n",
    "    \"\"\"Plot the cost function encoded by loss_fun,\n",
    "\n",
    "    Parameters\n",
    "    ----------\n",
    "    X : data features\n",
    "    y :  labels\n",
    "    loss_fun : loss function\n",
    "    w : (optionnal) can be used to give a historic path of the weights \"\"\"\n",
    "    def _inter(wn):\n",
    "        ww = np.zeros(3)\n",
    "        ww[1:] = wn\n",
    "        return loss_fun(X, y, ww).mean()\n",
    "    datarange = np.array([[np.min(X[:, 0]), np.min(X[:, 1])],\n",
    "                          [np.max(X[:, 0]), np.max(X[:, 1])]])\n",
    "    frontiere(_inter, np.array(datarange))\n",
    "    if w is not None:\n",
    "        plt.plot(w[:, 1], w[:, 2], 'k')\n",
    "    plt.xlim([np.min(X[:, 0]), np.max(X[:, 0])])\n",
    "    plt.ylim([np.min(X[:, 1]), np.max(X[:, 1])])\n",
    "\n",
    "def plot_cout3d(x, y, loss_fun, w):\n",
    "    \"\"\" trace le cout de la fonction cout loss_fun passee en parametre, en x,y,\n",
    "        en faisant varier les coordonnees du poids w.\n",
    "        W peut etre utilise pour passer un historique de poids\"\"\"\n",
    "    def _inter(wn):\n",
    "        ww = np.zeros(3)\n",
    "        ww[1:] = wn\n",
    "        return loss_fun(x, y, ww).mean()\n",
    "\n",
    "    datarange = np.array([[w[:, 1].min(), w[:, 2].min()],\n",
    "                         [w[:, 1].max(), w[:, 2].max()]])\n",
    "    frontiere_3d(_inter, np.array(datarange))\n",
    "    plt.plot(w[:, 1], w[:, 2], np.array([_inter(w[i, 1:]) for i in\n",
    "             range(w.shape[0])]), 'k-', linewidth=3)\n"
   ]
  },
  {
   "cell_type": "markdown",
   "metadata": {},
   "source": [
    "#### Algorithmes"
   ]
  },
  {
   "cell_type": "code",
   "execution_count": null,
   "metadata": {},
   "outputs": [],
   "source": [
    "###############################################################################\n",
    "#                Algorithms and functions\n",
    "###############################################################################\n",
    "\n",
    "def gradient(x, y, eps, niter, w_ini, loss_fun, gr_loss_fun, stochastic=True):\n",
    "    \"\"\" algorithme de descente du gradient:\n",
    "        - x : donnees\n",
    "        - y : label\n",
    "        - eps : facteur multiplicatif de descente\n",
    "        - niter : nombre d'iterations\n",
    "        - w_ini\n",
    "        - loss_fun : fonction de cout\n",
    "        - gr_loss_fun : gradient de la fonction de cout\n",
    "        - stoch : True : gradient stochastique\n",
    "        \"\"\"\n",
    "    w = np.zeros((niter, w_ini.size))\n",
    "    w[0] = w_ini\n",
    "    loss = np.zeros(niter)\n",
    "    loss[0] = loss_fun(x, y, w[0]).mean()\n",
    "    for i in range(1, niter):\n",
    "        if stochastic:  # this is for Stochastic Gradient Descent\n",
    "            idx = [np.random.randint(x.shape[0])]\n",
    "        else:           # this is for pure Gradient Descent\n",
    "            idx = np.arange(x.shape[0])\n",
    "        w[i, :] = w[i - 1, :] - eps * gr_loss_fun(x[idx, :],\n",
    "                                                  y[idx], w[i - 1, :])\n",
    "        loss[i] = loss_fun(x, y, w[i, :]).mean()\n",
    "    return w, loss\n",
    "\n",
    "def plot_gradient(X, y, wh, cost_hist, loss_fun):\n",
    "    \"\"\" display 4 figures on how  (stochastic) gradient descent behaves\n",
    "    wh : solution history\n",
    "    cost_hist : cost history\n",
    "    loss_fun : loss function\n",
    "    \"\"\"\n",
    "    best = np.argmin(cost_hist)\n",
    "    plt.subplot(221)\n",
    "    plt.title('Data and hyperplane estimated')\n",
    "    plot_2d(X, y, wh[best, :])\n",
    "    plt.subplot(222)\n",
    "    plt.title('Projection of level line and algorithm path')\n",
    "    plot_cout(X, y, loss_fun, wh)\n",
    "    plt.subplot(223)\n",
    "    plt.title('Objective function vs iterations')\n",
    "    plt.plot(range(cost_hist.shape[0]), cost_hist)\n",
    "    plt.subplot(224, projection='3d')\n",
    "    plt.title('Level line and algorithm path')\n",
    "    plot_cout3d(X, y, loss_fun, wh)\n"
   ]
  },
  {
   "cell_type": "markdown",
   "metadata": {},
   "source": [
    "#### Polynomal transformations"
   ]
  },
  {
   "cell_type": "code",
   "execution_count": 45,
   "metadata": {},
   "outputs": [],
   "source": [
    "###############################################################################\n",
    "#                Polynomial transformations\n",
    "###############################################################################\n",
    "\n",
    "def poly2(x):\n",
    "    \"\"\" creates features for second order interactions \"\"\"\n",
    "    if x.ndim == 1:\n",
    "        x = x[None, :]\n",
    "    nb, d = x.shape\n",
    "    res = x\n",
    "    for i in range(0, d):\n",
    "        for j in range(i, d):\n",
    "            res = np.hstack((res, x[:, i:i + 1] * x[:, j:j + 1]))\n",
    "    return res\n",
    "\n",
    "def poly3(x):\n",
    "    \"\"\" creates features for third order interactions \"\"\"\n",
    "    if x.ndim == 1:\n",
    "            x = x[None, :]\n",
    "    nb, d = x.shape\n",
    "    res = poly2(x)\n",
    "    for i in range(0, d):\n",
    "        for j in range(i, d):\n",
    "            for k in range(j, d):\n",
    "                res = np.hstack(\n",
    "                    (res, x[:, i:i + 1] * x[:, j:j + 1] * x[:, k:k + 1]))\n",
    "    return res"
   ]
  },
  {
   "cell_type": "code",
   "execution_count": null,
   "metadata": {},
   "outputs": [],
   "source": []
  }
 ],
 "metadata": {
  "kernelspec": {
   "display_name": "Python 3",
   "language": "python",
   "name": "python3"
  },
  "language_info": {
   "codemirror_mode": {
    "name": "ipython",
    "version": 3
   },
   "file_extension": ".py",
   "mimetype": "text/x-python",
   "name": "python",
   "nbconvert_exporter": "python",
   "pygments_lexer": "ipython3",
   "version": "3.8.3"
  }
 },
 "nbformat": 4,
 "nbformat_minor": 4
}
